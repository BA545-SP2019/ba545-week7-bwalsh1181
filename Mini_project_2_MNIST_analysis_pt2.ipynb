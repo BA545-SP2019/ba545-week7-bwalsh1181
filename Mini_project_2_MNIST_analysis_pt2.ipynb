{
 "cells": [
  {
   "cell_type": "markdown",
   "metadata": {},
   "source": [
    "# Mini Project #2: MNIST Analysis\n",
    "\n",
    "An easy-to-follow scikit-learn tutorial that will help you to get started with the Python machine learning.\n",
    "\n",
    "## Machine Learning with Python\n",
    "\n",
    "Machine learning is a branch in computer science that studies the design of algorithms that can learn.\n",
    "\n",
    "Typical tasks are concept learning, function learning or “predictive modeling”, clustering and finding predictive patterns. These tasks are learned through available data that were observed through experiences or instructions, for example.\n",
    "\n",
    "The hope that comes with this discipline is that including the experience into its tasks will eventually improve the learning. But this improvement needs to happen in such a way that the learning itself becomes automatic so that humans like ourselves don’t need to interfere anymore is the ultimate goal.\n",
    "\n",
    "Today’s scikit-learn tutorial will introduce you to the basics of Python machine learning:\n",
    "\n",
    "- Part 1: You'll learn how to use Python and its libraries to explore your data with the help of matplotlib and Principal Component Analysis (PCA),\n",
    "- Part 2a: And you'll preprocess your data with normalization and you'll split your data into training and test sets.\n",
    "- Part 2b: Next, you'll work with the well-known KMeans algorithm to construct an unsupervised model, fit this model to your data, predict values, and validate the model that you have built.\n",
    "- Part 3: As an extra, you'll also see how you can also use Support Vector Machines (SVM) to construct another model to classify your data.\n",
    "\n",
    "Let's move to part 2 now."
   ]
  },
  {
   "cell_type": "markdown",
   "metadata": {},
   "source": [
    "## K-means Clustering\n",
    "\n",
    "Now that you have even more information about your data and you have a visualization ready, it does seem a bit like the data points sort of group together, but you also see there is quite some overlap.\n",
    "\n",
    "This might be interesting to investigate further.\n",
    "\n",
    "Do you think that, in a case where you knew that there are 10 possible digits labels to assign to the data points, but you have no access to the labels, the observations would group or “cluster” together by some criterion in such a way that you could infer the labels?\n",
    "\n",
    "Now this is an analytical question called __unsupervised learning__.\n",
    "\n",
    "In general, when you have acquired a good understanding of your data, you have to decide on the use cases that would be relevant to your data set. In other words, you think about what your data set might teach you or what you think you can learn from your data.\n",
    "\n",
    "From there on, you can think about what kind of algorithms you would be able to apply to your data set in order to get the results that you think you can obtain.\n",
    "\n",
    "Tip: the more familiar you are with your data, the easier it will be to assess the use cases for your specific data set. The same also holds for finding the appropriate machine algorithm.\n",
    "\n",
    "However, when you’re first getting started with `scikit-learn`, you’ll see that the amount of algorithms that the library contains is pretty vast and that you might still want additional help when you’re doing the assessment for your data set. That’s why the below `scikit-learn` machine learning map will come in handy.\n",
    "\n",
    "<img src = 'https://scikit-learn.org/stable/_static/ml_map.png' />\n",
    "[Image Source](https://scikit-learn.org/stable/tutorial/machine_learning_map/)\n",
    "\n",
    "Note that this map does require you to have some knowledge about the algorithms that are included in the `scikit-learn `library. This, by the way, also holds some truth for taking this next step in your project: if you have no idea what is possible, it will be very hard to decide on what your use case will be for the data.\n",
    "\n",
    "As your use case was one for clustering, you can follow the path on the map towards “KMeans”. You’ll see the use case that you have just thought about requires you to have more than 50 samples (“check!”), to have labeled data (“check!”), to know the number of categories that you want to predict (“check!”) and to have less than 10K samples (“check!”).\n",
    "\n",
    "But what exactly is the __K-Means__ algorithm?\n",
    "\n",
    "It is one of the simplest and widely used __unsupervised learning__ algorithms to solve __clustering__ problems. The procedure follows a simple and easy way to classify a given data set through a certain number of clusters that you have set before you run the algorithm. This number of clusters is called `k` and you select this number at your discretion.\n",
    "\n",
    "Then, the k-means algorithm will find the __nearest cluster center__ for each data point and assign the closest data point to that cluster.\n",
    "\n",
    "Once all data points have been assigned to clusters, the cluster centers will be recomputed. In other words, new cluster centers will emerge from the average of the values of the cluster data points. This process is repeated until most data points stick to the same cluster. The cluster membership should stabilize.\n",
    "\n",
    "You can already see that, because the k-means algorithm works the way it does, the initial set of cluster centers that you give up can have a __big effect__ on the clusters that are eventually found. You can, of course, deal with this effect, as you will see further on.\n",
    "\n",
    "However, before you can go into making a model for your data, you should definitely take a look into preparing your data for this purpose. \n",
    "\n",
    "Let's first import the `digits` data from `scikit-learn` `datasets` again. If you don't remember how to do so, please refer to part 1 of this project."
   ]
  },
  {
   "cell_type": "code",
   "execution_count": 1,
   "metadata": {
    "collapsed": true
   },
   "outputs": [
    {
     "name": "stdout",
     "output_type": "stream",
     "text": [
      "{'data': array([[ 0.,  0.,  5., ...,  0.,  0.,  0.],\n",
      "       [ 0.,  0.,  0., ..., 10.,  0.,  0.],\n",
      "       [ 0.,  0.,  0., ..., 16.,  9.,  0.],\n",
      "       ...,\n",
      "       [ 0.,  0.,  1., ...,  6.,  0.,  0.],\n",
      "       [ 0.,  0.,  2., ..., 12.,  0.,  0.],\n",
      "       [ 0.,  0., 10., ..., 12.,  1.,  0.]]), 'target': array([0, 1, 2, ..., 8, 9, 8]), 'target_names': array([0, 1, 2, 3, 4, 5, 6, 7, 8, 9]), 'images': array([[[ 0.,  0.,  5., ...,  1.,  0.,  0.],\n",
      "        [ 0.,  0., 13., ..., 15.,  5.,  0.],\n",
      "        [ 0.,  3., 15., ..., 11.,  8.,  0.],\n",
      "        ...,\n",
      "        [ 0.,  4., 11., ..., 12.,  7.,  0.],\n",
      "        [ 0.,  2., 14., ..., 12.,  0.,  0.],\n",
      "        [ 0.,  0.,  6., ...,  0.,  0.,  0.]],\n",
      "\n",
      "       [[ 0.,  0.,  0., ...,  5.,  0.,  0.],\n",
      "        [ 0.,  0.,  0., ...,  9.,  0.,  0.],\n",
      "        [ 0.,  0.,  3., ...,  6.,  0.,  0.],\n",
      "        ...,\n",
      "        [ 0.,  0.,  1., ...,  6.,  0.,  0.],\n",
      "        [ 0.,  0.,  1., ...,  6.,  0.,  0.],\n",
      "        [ 0.,  0.,  0., ..., 10.,  0.,  0.]],\n",
      "\n",
      "       [[ 0.,  0.,  0., ..., 12.,  0.,  0.],\n",
      "        [ 0.,  0.,  3., ..., 14.,  0.,  0.],\n",
      "        [ 0.,  0.,  8., ..., 16.,  0.,  0.],\n",
      "        ...,\n",
      "        [ 0.,  9., 16., ...,  0.,  0.,  0.],\n",
      "        [ 0.,  3., 13., ..., 11.,  5.,  0.],\n",
      "        [ 0.,  0.,  0., ..., 16.,  9.,  0.]],\n",
      "\n",
      "       ...,\n",
      "\n",
      "       [[ 0.,  0.,  1., ...,  1.,  0.,  0.],\n",
      "        [ 0.,  0., 13., ...,  2.,  1.,  0.],\n",
      "        [ 0.,  0., 16., ..., 16.,  5.,  0.],\n",
      "        ...,\n",
      "        [ 0.,  0., 16., ..., 15.,  0.,  0.],\n",
      "        [ 0.,  0., 15., ..., 16.,  0.,  0.],\n",
      "        [ 0.,  0.,  2., ...,  6.,  0.,  0.]],\n",
      "\n",
      "       [[ 0.,  0.,  2., ...,  0.,  0.,  0.],\n",
      "        [ 0.,  0., 14., ..., 15.,  1.,  0.],\n",
      "        [ 0.,  4., 16., ..., 16.,  7.,  0.],\n",
      "        ...,\n",
      "        [ 0.,  0.,  0., ..., 16.,  2.,  0.],\n",
      "        [ 0.,  0.,  4., ..., 16.,  2.,  0.],\n",
      "        [ 0.,  0.,  5., ..., 12.,  0.,  0.]],\n",
      "\n",
      "       [[ 0.,  0., 10., ...,  1.,  0.,  0.],\n",
      "        [ 0.,  2., 16., ...,  1.,  0.,  0.],\n",
      "        [ 0.,  0., 15., ..., 15.,  0.,  0.],\n",
      "        ...,\n",
      "        [ 0.,  4., 16., ..., 16.,  6.,  0.],\n",
      "        [ 0.,  8., 16., ..., 16.,  8.,  0.],\n",
      "        [ 0.,  1.,  8., ..., 12.,  1.,  0.]]]), 'DESCR': \"Optical Recognition of Handwritten Digits Data Set\\n===================================================\\n\\nNotes\\n-----\\nData Set Characteristics:\\n    :Number of Instances: 5620\\n    :Number of Attributes: 64\\n    :Attribute Information: 8x8 image of integer pixels in the range 0..16.\\n    :Missing Attribute Values: None\\n    :Creator: E. Alpaydin (alpaydin '@' boun.edu.tr)\\n    :Date: July; 1998\\n\\nThis is a copy of the test set of the UCI ML hand-written digits datasets\\nhttp://archive.ics.uci.edu/ml/datasets/Optical+Recognition+of+Handwritten+Digits\\n\\nThe data set contains images of hand-written digits: 10 classes where\\neach class refers to a digit.\\n\\nPreprocessing programs made available by NIST were used to extract\\nnormalized bitmaps of handwritten digits from a preprinted form. From a\\ntotal of 43 people, 30 contributed to the training set and different 13\\nto the test set. 32x32 bitmaps are divided into nonoverlapping blocks of\\n4x4 and the number of on pixels are counted in each block. This generates\\nan input matrix of 8x8 where each element is an integer in the range\\n0..16. This reduces dimensionality and gives invariance to small\\ndistortions.\\n\\nFor info on NIST preprocessing routines, see M. D. Garris, J. L. Blue, G.\\nT. Candela, D. L. Dimmick, J. Geist, P. J. Grother, S. A. Janet, and C.\\nL. Wilson, NIST Form-Based Handprint Recognition System, NISTIR 5469,\\n1994.\\n\\nReferences\\n----------\\n  - C. Kaynak (1995) Methods of Combining Multiple Classifiers and Their\\n    Applications to Handwritten Digit Recognition, MSc Thesis, Institute of\\n    Graduate Studies in Science and Engineering, Bogazici University.\\n  - E. Alpaydin, C. Kaynak (1998) Cascading Classifiers, Kybernetika.\\n  - Ken Tang and Ponnuthurai N. Suganthan and Xi Yao and A. Kai Qin.\\n    Linear dimensionalityreduction using relevance weighted LDA. School of\\n    Electrical and Electronic Engineering Nanyang Technological University.\\n    2005.\\n  - Claudio Gentile. A New Approximate Maximal Margin Classification\\n    Algorithm. NIPS. 2000.\\n\"}\n"
     ]
    }
   ],
   "source": [
    "# import `datasets` from `sklearn`.\n",
    "from sklearn import datasets\n",
    "\n",
    "# read `digits` using `load_digits()` into a variable called `digits`\n",
    "digits = datasets.load_digits()\n",
    "print(digits)"
   ]
  },
  {
   "cell_type": "markdown",
   "metadata": {},
   "source": [
    "## Preprocessing Your Data\n",
    "As you have read in the previous section, before modeling your data, you’ll do well by preparing it first. This preparation step is called __preprocessing__.\n",
    "\n",
    "### Data Normalization\n",
    "The first thing that we’re going to do is normalize/standardize the data. \n",
    "\n",
    "We often use these two together, but they actually mean different things:\n",
    "\n",
    "- __Normalization__ usually means making the data values in the same range;\n",
    "- __Standardization__ usually means making the data values follow the standardized distribution (mean of `0` and standard deviation of `1`).\n",
    "\n",
    "You can standardize the digits data by, for example, making use of the `scale()` method:"
   ]
  },
  {
   "cell_type": "code",
   "execution_count": 2,
   "metadata": {
    "collapsed": true
   },
   "outputs": [],
   "source": [
    "# Import `scale` from `sklearn.preprocessing`\n",
    "from sklearn.preprocessing import scale\n",
    "\n",
    "# Apply `scale()` to the `digits` data\n",
    "digits_data = scale(digits.data)"
   ]
  },
  {
   "cell_type": "markdown",
   "metadata": {},
   "source": [
    "By scaling the data, you shift the distribution of each attribute to have a mean of `0` and a standard deviation of `1` (unit variance).\n",
    "\n",
    "### Splitting Your Data Into Training And Test Sets\n",
    "In order to assess your model’s performance later, you will also need to divide the data set into two parts: a __training set__ and a __test set__. The first is used to train the model, while the second is used to evaluate the learned or trained model.\n",
    "\n",
    "__NOTE__: in part 1 if you stick with the `pandas` `read_csv()` method to get your data, it is already split into __training__ and __test__.\n",
    "\n",
    "In practice, the division of your data set into a test and a training sets is disjoint: the most common splitting choice is to take `2/3` of your original data set as the training set, while the `1/3` that remains will compose the test set.\n",
    "\n",
    "You will try to do this  here. You see in the code chunk below that this ‘traditional’ splitting choice is respected: in the arguments of the `train_test_split()` method, you clearly see that the test_size is set to 0.25 - which means 75% of the data will be used in training the model.\n",
    "\n",
    "You’ll also note that the argument `random_state` has the value `2019` assigned to it. With this argument, you can guarantee that your split will always be the same. That is particularly handy if you want reproducible results.\n",
    "\n",
    "__NOTE__: you should always use `random_state`, or its equivalent parameters (e.g. `seed`), in your analysis, to guarantee the reproducibility and comparison capability."
   ]
  },
  {
   "cell_type": "code",
   "execution_count": 3,
   "metadata": {
    "collapsed": true
   },
   "outputs": [],
   "source": [
    "# Import `train_test_split` from `sklearn.model_selection`\n",
    "from sklearn.model_selection import train_test_split\n",
    "\n",
    "# Split the `digits` data into training and test sets\n",
    "# Split `data` into `X_train` and `X_test`\n",
    "X_train, X_test = train_test_split(digits_data,test_size=.25, random_state =2019)\n",
    "# Split `target` into `y_train` and `y_test`\n",
    "y_train, y_test = train_test_split(digits.target,test_size=.25, random_state =2019)\n",
    "# Split `images` into `images_train` and `images_test`\n",
    "images_train, images_test = train_test_split(digits.images,test_size=.25, random_state =2019)"
   ]
  },
  {
   "cell_type": "markdown",
   "metadata": {},
   "source": [
    "After you have split up your data set into train and test sets, you can quickly inspect the numbers before you go and model the data. You should look at the dimensionalities of your `X` and `y` data."
   ]
  },
  {
   "cell_type": "code",
   "execution_count": 4,
   "metadata": {
    "collapsed": true
   },
   "outputs": [
    {
     "name": "stdout",
     "output_type": "stream",
     "text": [
      "1347\n",
      "64\n",
      "1347\n"
     ]
    }
   ],
   "source": [
    "import numpy as np\n",
    "\n",
    "# Number of training features\n",
    "n_samples, n_features = X_train.shape\n",
    "\n",
    "# Print out `n_samples`\n",
    "#### add your comments here explaining what is `n_samples`\n",
    "print(n_samples)\n",
    "\n",
    "# Print out `n_features`\n",
    "#### add your comments here explaining what is `n_features`\n",
    "print(n_features)\n",
    "\n",
    "# Number of Training labels\n",
    "n_digits = len(np.unique(y_train))\n",
    "\n",
    "# Inspect `y_train`\n",
    "#### add your comment here explaining what is the value below\n",
    "print(len(y_train))"
   ]
  },
  {
   "cell_type": "markdown",
   "metadata": {},
   "source": [
    "You’ll see that the training set `X_train` now contains `1347` samples, which is exactly `75%` of the samples that the original data set contained, and 64 features, which hasn’t changed. The y_train training set also contains `75%` of the labels of the original data set. This means that the test sets `X_test` and `y_test` contain `450` samples.\n",
    "\n",
    "## Clustering The `digits` Data\n",
    "After all these preparation steps, you have made sure that all your known (training) data is stored. No actual model or learning was performed up until this moment.\n",
    "\n",
    "Now, it’s finally time to find those clusters of your training set. Use KMeans() from the cluster module to set up your model. You’ll see that there are three arguments that are passed to this method: `init`, `n_clusters` and the `random_state`.\n",
    "\n",
    "You might still remember this last argument from before when you split the data into training and test sets. This argument basically guaranteed that you got reproducible results. Please use the same `random_state` here.\n",
    "\n",
    "The other important thing here is determining the value of `k` in `n_clusters`. Here it is easy (`n_clusters = 10`) since we already know that the data has `10` classes. There is a greater chance we you conduct an __unsupervised learning__ analysis and you do not have classes - then you will have to try different value of `k`."
   ]
  },
  {
   "cell_type": "code",
   "execution_count": 5,
   "metadata": {
    "collapsed": true
   },
   "outputs": [],
   "source": [
    "# Import the `cluster` module\n",
    "from sklearn import cluster\n",
    "\n",
    "# Create the KMeans model\n",
    "clf = cluster.KMeans(init='k-means++', n_clusters=10, random_state=2019)\n",
    "\n",
    "# Fit the training data `X_train`to the model\n",
    "clf = clf.fit(X_train)"
   ]
  },
  {
   "cell_type": "markdown",
   "metadata": {},
   "source": [
    "The `init` parameter indicates the method for initialization and even though it defaults to `k-means++`, you see it explicitly coming back in the code. That means that you can leave it out if you want. \n",
    "\n",
    "Next, you also see that the `n_clusters` argument is set to 10. This number not only indicates the number of clusters or groups you want your data to form, but also the number of centroids to generate. _Remember that a cluster centroid is the __center__ of a cluster_.\n",
    "\n",
    "Do you also still remember how the previous section described this as one of the possible disadvantages of the K-Means algorithm?\n",
    "\n",
    "That is, that the initial set of cluster centers that you give up can have a big effect on the clusters that are eventually found?\n",
    "\n",
    "Usually, you try to deal with this effect by trying __several__ initial sets in multiple runs and by selecting the set of clusters with the __minimum__ _sum of the squared errors (SSE)_. In other words, you want to minimize the distance of each point in the cluster to the mean or centroid of that cluster.\n",
    "\n",
    "By adding the `n-init` argument to `KMeans()`, you can determine how many different centroid configurations the algorithm will try.\n",
    "\n",
    "Note again that you don’t want to insert the test labels when you fit the model to your data: these will be used to see if your model is good at predicting the actual classes of your instances!\n",
    "\n",
    "You can also visualize the images that make up the cluster centers as follows:"
   ]
  },
  {
   "cell_type": "code",
   "execution_count": 6,
   "metadata": {
    "collapsed": true
   },
   "outputs": [
    {
     "data": {
      "image/png": "[encoded data removed]",
      "text/plain": [
       "<Figure size 576x216 with 10 Axes>"
      ]
     },
     "metadata": {},
     "output_type": "display_data"
    }
   ],
   "source": [
    "# Import matplotlib\n",
    "import matplotlib.pyplot as plt\n",
    "%matplotlib inline\n",
    "\n",
    "# Figure size in inches\n",
    "fig = plt.figure(figsize=(8, 3))\n",
    "\n",
    "# Add title\n",
    "fig.suptitle('Cluster Center Images', fontsize=14, fontweight='bold')\n",
    "\n",
    "# For all labels (0-9)\n",
    "for i in range(10):\n",
    "    # Initialize subplots in a grid of 2X5, at i+1th position\n",
    "    ax = fig.add_subplot(2, 5, 1 + i)\n",
    "    # Display images\n",
    "    ax.imshow(clf.cluster_centers_[i].reshape((8, 8)), cmap=plt.cm.binary)\n",
    "    # Don't show the axes\n",
    "    plt.axis('off')\n",
    "\n",
    "# Show the plot\n",
    "plt.show()"
   ]
  },
  {
   "cell_type": "markdown",
   "metadata": {},
   "source": [
    "All these images are blurry, correct? That's because they are averages of the points in different clusters. From there you can already guess which clusters will perform better than others. For instance, the right-most one on the first row is obviously an `0` - which means all images in that cluster are similar.\n",
    "\n",
    "Yes - you want all data points in one cluster to be similar; and you want data points between different clusters to be as different as they can be - that is the idea behind a very important evaluation metric, the `silhouette score`.\n",
    "\n",
    "If you want to see another example that visualizes the data clusters and their centers, go here.\n",
    "\n",
    "The next step is to apply the clustering (results from a cluster model) to the __test data__, to generate labels for them:"
   ]
  },
  {
   "cell_type": "code",
   "execution_count": 7,
   "metadata": {
    "collapsed": true
   },
   "outputs": [
    {
     "name": "stdout",
     "output_type": "stream",
     "text": [
      "[9 5 0 5 1 1 9 0 6 8 5 5 8 9 8 1 5 2 9 2 5 1 2 4 9 8 8 5 1 6 2 1 2 1 6 5 5\n",
      " 8 9 8 5 6 2 4 6 5 4 5 5 5 5 3 2 4 5 5 5 1 2 9 9 4 5 0 3 5 0 1 8 5 5 5 1 1\n",
      " 5 4 9 0 9 4 2 9 4 8 5 9 1 5 5 9 4 5 1 8 5 5 5 6 1]\n",
      "[5 9 2 9 6 6 5 2 4 1 5 3 1 5 1 6 9 7 5 7 3 6 7 0 5 8 1 5 6 4 7 6 3 6 4 9 8\n",
      " 1 5 8 9 1 7 0 4 9 0 3 5 9 3 7 4 0 9 8 3 6 7 5 5 0 3 2 4 3 2 6 8 3 3 8 6 6\n",
      " 3 0 5 2 5 0 7 5 0 1 3 5 6 3 3 7 0 3 6 8 5 8 3 9 6]\n",
      "[[ 0.00000000e+00  6.48850191e-01  1.00230185e+00  6.25396221e-01\n",
      "  -9.26499410e-01 -8.12897604e-01 -4.09723921e-01 -1.25022923e-01\n",
      "   4.30902613e-01  9.64877286e-01  5.28390783e-01  1.46394503e-01\n",
      "   1.73243517e-01 -7.34568989e-01 -4.93536465e-01 -1.30433381e-01\n",
      "   7.87460908e-02  4.96563063e-01 -3.19651603e-01 -1.10138665e-01\n",
      "   6.65653496e-01 -5.64699656e-01 -4.99238014e-01 -1.14221844e-01\n",
      "  -3.33797263e-02 -4.69651985e-01 -1.00015323e+00 -3.77700369e-01\n",
      "   3.10771133e-01 -6.88781560e-01 -5.87151459e-01 -4.72323823e-02\n",
      "   0.00000000e+00 -6.43631719e-01 -9.49826621e-01 -2.25027968e-02\n",
      "   6.58638730e-02 -1.09141950e+00 -8.07467815e-01  0.00000000e+00\n",
      "  -6.13436689e-02 -4.77094498e-01 -4.36144565e-01  4.88970177e-01\n",
      "   1.17527628e-01 -9.49383821e-01 -6.38376566e-01 -6.37072865e-02\n",
      "  -3.54332626e-02  1.47239397e-01  5.49490929e-01  8.21269315e-01\n",
      "   5.46947529e-01  3.94723380e-01  9.02075568e-01  1.24406104e+00\n",
      "  -2.35964589e-02  6.23295426e-01  8.90388237e-01  5.26645186e-01\n",
      "   3.56832828e-01  1.03104298e+00  2.02431739e+00  1.79366331e+00]\n",
      " [ 0.00000000e+00 -3.35016487e-01 -8.00098468e-01 -1.05816832e-01\n",
      "  -5.65498714e-01 -7.22432422e-01 -3.84660131e-01 -1.25022923e-01\n",
      "  -5.90775571e-02 -6.05041838e-01 -5.33193337e-01  6.30071379e-01\n",
      "  -9.53633984e-01 -1.20211571e+00 -5.08652483e-01 -1.30433381e-01\n",
      "  -4.46250733e-02 -4.92447090e-01  5.19035596e-01  3.52542064e-01\n",
      "  -1.03307965e+00 -1.22819060e+00 -5.48805463e-01 -1.14221844e-01\n",
      "  -3.33797263e-02  8.04114508e-06  7.78284777e-01 -1.79589129e-01\n",
      "  -1.01173496e+00 -9.63653733e-01 -6.08339916e-01 -4.72323823e-02\n",
      "   0.00000000e+00  3.85802745e-01  1.11178671e+00  5.73652938e-01\n",
      "   3.52727980e-01  3.10812690e-01 -9.00331767e-02  0.00000000e+00\n",
      "  -6.13436689e-02  1.32010675e-01  1.18182858e+00  4.39849462e-01\n",
      "  -3.85865239e-01  3.98857351e-01  1.33986143e+00  5.76943993e-01\n",
      "  -3.54332626e-02 -2.86401744e-01  5.41146632e-01  4.97011767e-01\n",
      "  -8.06009067e-01  4.22017421e-01  1.41915321e+00  2.67487603e-01\n",
      "  -2.35964589e-02 -2.99081347e-01 -7.61203172e-01 -2.19562030e-01\n",
      "   6.85294816e-01  1.06354435e+00  5.31747500e-01 -1.63416678e-01]\n",
      " [ 0.00000000e+00 -1.97190336e-01 -3.63642422e-03  3.39467012e-01\n",
      "   4.79375690e-01  8.48818039e-01  8.45554213e-01  1.16035224e-01\n",
      "  -5.90775571e-02 -2.78446500e-01  8.19353130e-02 -2.04389939e-01\n",
      "  -2.79254094e-02  6.91633095e-01  7.01387427e-01 -8.00921467e-02\n",
      "  -4.46250733e-02 -3.58602505e-01 -7.54424774e-01 -8.03205425e-01\n",
      "   1.13487038e-01  6.32042110e-01  2.05524572e-01 -1.14221844e-01\n",
      "  -3.33797263e-02 -4.27469283e-01 -6.55304487e-01 -2.75445944e-01\n",
      "   5.25596966e-01  6.73739183e-01  6.14740063e-01 -4.72323823e-02\n",
      "   0.00000000e+00 -1.55441440e-01  2.19571147e-01  7.23254476e-01\n",
      "   7.61623947e-01  3.05111631e-01  3.31996892e-01  0.00000000e+00\n",
      "  -6.13436689e-02 -1.16618975e-01 -2.23045873e-01  7.11900212e-01\n",
      "   4.91831551e-01 -8.01359494e-01 -6.69960898e-01 -8.87416172e-02\n",
      "  -3.54332626e-02 -3.51859635e-01 -7.48234929e-01  5.14771437e-01\n",
      "  -7.10012203e-01 -1.38120306e+00 -7.56023774e-01 -2.09785127e-01\n",
      "  -2.35964589e-02 -2.32167853e-01  2.03784376e-01 -8.86362108e-02\n",
      "  -1.95626126e+00 -1.11603953e+00 -5.05669803e-01 -1.96007519e-01]\n",
      " [ 0.00000000e+00 -3.35016487e-01 -8.16946376e-01 -7.85335435e-01\n",
      "   1.27100382e-01  7.19399590e-01  2.52273947e+00  4.59282939e+00\n",
      "  -5.90775571e-02 -6.01654798e-01 -7.88782811e-01  5.88974295e-01\n",
      "  -2.22754838e-01 -1.58902517e-01  3.15074727e+00  6.34201098e+00\n",
      "  -4.46250733e-02 -5.47841494e-01  7.35178662e-02  9.97514510e-02\n",
      "  -9.70325319e-01  8.19920165e-03  3.53882316e+00  4.93574344e+00\n",
      "  -3.33797263e-02  7.77624678e-02  4.52576979e-01 -3.46123285e-01\n",
      "  -3.59785040e-01  1.16529963e+00  1.40614476e+00  1.46842103e+00\n",
      "   0.00000000e+00  1.28257502e-01  1.65597754e-01 -2.28535110e-02\n",
      "   2.86316974e-01  8.10354558e-01  5.59482177e-02  0.00000000e+00\n",
      "  -6.13436689e-02 -3.63554385e-01 -7.30450954e-01 -3.51555622e-01\n",
      "   6.91583235e-01 -1.29348935e-01 -6.91040620e-01 -8.87416172e-02\n",
      "  -3.54332626e-02 -4.03574986e-01 -1.22273693e+00 -4.31254564e-01\n",
      "   5.07660878e-01 -1.03205851e+00 -7.57435810e-01 -2.09785127e-01\n",
      "  -2.35964589e-02 -2.99081347e-01 -7.81356431e-01 -3.71501145e-01\n",
      "  -6.99834048e-01 -1.00739822e+00 -5.05669803e-01 -1.96007519e-01]\n",
      " [ 0.00000000e+00 -3.00827054e-01 -2.17574930e-01  2.86846454e-01\n",
      "  -1.92437427e-01 -4.97916606e-01 -3.98066344e-01 -1.25022923e-01\n",
      "  -5.90775571e-02 -3.28029222e-01  4.37206152e-01  3.34638222e-01\n",
      "   2.18814141e-01  5.12820987e-01 -2.68508520e-01 -1.30433381e-01\n",
      "  -4.46250733e-02  3.60784419e-01  7.80061578e-01 -3.27482691e-01\n",
      "  -7.90553757e-01  6.89388827e-01  5.02558749e-01 -1.14221844e-01\n",
      "  -3.33797263e-02  9.12818447e-01  5.57543940e-01 -1.16906691e+00\n",
      "  -1.56490718e+00  2.49369580e-01  1.11692709e+00 -4.72323823e-02\n",
      "   0.00000000e+00  1.02086979e+00  5.93298217e-01 -1.33011361e+00\n",
      "  -1.73405075e+00 -2.63878264e-02  1.17431331e+00  0.00000000e+00\n",
      "  -6.13436689e-02  6.51925502e-01  9.78804809e-01 -9.02162694e-01\n",
      "  -1.04393372e+00  5.11206775e-01  5.73167204e-01 -8.87416172e-02\n",
      "  -3.54332626e-02  8.48991649e-02  9.74812814e-01  3.47714893e-02\n",
      "   1.32066809e-01  7.75460772e-01 -2.29400093e-01 -2.09785127e-01\n",
      "  -2.35964589e-02 -2.90781999e-01 -2.74925009e-01  3.34139276e-01\n",
      "   3.09008422e-01 -1.89971862e-01 -4.33636508e-01 -1.96007519e-01]\n",
      " [ 0.00000000e+00 -1.93662232e-03  4.27332282e-01  3.54180997e-01\n",
      "   2.10424371e-01  4.21855945e-02 -2.53075235e-01 -1.18326864e-01\n",
      "  -2.22156230e-02  4.10505675e-01  5.60491658e-01 -7.20450920e-01\n",
      "  -4.60804414e-02  4.55801276e-01 -9.75875571e-02 -1.26238278e-01\n",
      "   1.10632994e-02  2.38665710e-01 -1.27626160e-01 -4.78192254e-01\n",
      "   3.15948649e-01  4.65593264e-01 -8.00127858e-02 -1.14221844e-01\n",
      "  -3.33797263e-02 -3.46890811e-01 -4.05137704e-01  2.78333796e-01\n",
      "   6.08021852e-01  4.18834087e-01 -1.62532403e-01 -4.72323823e-02\n",
      "   0.00000000e+00 -6.17485796e-01 -8.76528050e-01 -6.17618566e-01\n",
      "  -3.18353103e-01  5.20461076e-01  1.99443032e-01  0.00000000e+00\n",
      "  -6.13436689e-02 -4.13640341e-01 -7.43655932e-01 -9.13247636e-01\n",
      "  -8.61486103e-01  5.72542310e-01  7.55898978e-01 -4.35407424e-02\n",
      "  -3.54332626e-02  1.11589466e-01  7.69133314e-02 -6.99893294e-01\n",
      "  -6.38610070e-01  6.81003942e-01  5.18338544e-01 -1.25107707e-01\n",
      "  -2.35964589e-02 -4.62970378e-02  3.72576760e-01  4.28210423e-01\n",
      "   5.34268304e-01  4.97939873e-01 -4.37720990e-02 -1.67999765e-01]\n",
      " [ 0.00000000e+00 -3.35016487e-01 -1.06266399e+00 -1.58925410e+00\n",
      "  -3.87901052e-02 -9.68966507e-02 -6.62360759e-02 -1.19544329e-01\n",
      "  -5.90775571e-02 -6.20452870e-01 -1.46479700e+00 -4.05459361e-02\n",
      "   4.13938035e-02 -4.80692563e-01 -1.04542821e-01 -1.09839239e-01\n",
      "  -4.46250733e-02 -5.14695662e-01 -5.38884101e-02  8.53365976e-01\n",
      "   2.83100063e-02 -1.55136996e-02  3.24659902e-01  1.53593767e-02\n",
      "  -3.33797263e-02  5.11776668e-01  7.26884835e-01 -2.38198111e-01\n",
      "  -1.92310456e-01  6.20295677e-01  6.13712265e-01 -4.72323823e-02\n",
      "   0.00000000e+00  1.26598227e+00  7.36469084e-01 -1.22976445e-01\n",
      "   3.81144227e-01  8.21971811e-01  4.36968838e-01  0.00000000e+00\n",
      "   3.69260132e-01  1.18413342e+00  3.87584329e-01  4.70142681e-01\n",
      "   1.01663370e+00  5.28247933e-01 -4.16400174e-01 -8.87416172e-02\n",
      "   1.03713531e-01  1.26959413e-01 -9.05422008e-01 -6.29458687e-01\n",
      "   8.17600415e-01 -3.49131045e-01 -6.30352587e-01 -2.09785127e-01\n",
      "   2.17328749e-01 -2.50416988e-01 -1.05262991e+00 -1.47411142e+00\n",
      "   5.59750208e-02 -3.12528003e-01 -3.45889013e-01 -1.96007519e-01]\n",
      " [ 0.00000000e+00 -3.35016487e-01 -1.09493684e+00 -1.84474239e+00\n",
      "   7.35365501e-01 -6.67601921e-01 -4.09723921e-01 -1.25022923e-01\n",
      "  -5.90775571e-02 -6.24009262e-01 -1.91557297e+00  2.56659465e-01\n",
      "   5.69012041e-01 -1.35109507e+00 -5.14991458e-01 -1.30433381e-01\n",
      "  -4.46250733e-02 -7.27646281e-01 -1.21338540e+00  1.55269115e+00\n",
      "  -1.77832725e-01 -1.25998248e+00  2.51965570e+00  2.16640764e+00\n",
      "  -3.33797263e-02 -7.85105241e-01  4.69885123e-01  5.40464078e-01\n",
      "  -1.45147121e+00 -9.39332425e-02  3.44118539e+00  2.11719154e+01\n",
      "   0.00000000e+00  7.64655530e-01  1.31786694e+00 -9.68905140e-01\n",
      "  -1.73666443e+00  8.95547745e-01  2.00512118e+00  0.00000000e+00\n",
      "   1.37179780e+01  4.83606670e+00  9.36108360e-01  1.19858959e-01\n",
      "   5.23778482e-02  1.36346581e+00 -1.05390959e-01 -8.87416172e-02\n",
      "   3.91483039e+01  8.76197635e+00  1.50507822e+00  1.23639392e+00\n",
      "   1.24208282e+00  7.03463052e-01 -7.57435810e-01 -2.09785127e-01\n",
      "  -2.35964589e-02 -2.99081347e-01 -1.08938309e+00 -1.16361369e+00\n",
      "   8.49632138e-01 -1.29522580e-01 -5.05669803e-01 -1.96007519e-01]\n",
      " [ 0.00000000e+00 -2.19242520e-01 -2.89215281e-01 -3.43336154e-02\n",
      "   1.69595616e-01 -5.06384309e-02 -2.59341183e-01 -1.25022923e-01\n",
      "  -5.90775571e-02 -3.70509636e-01 -3.65742296e-01  4.65389104e-01\n",
      "   5.60646202e-01  2.62614276e-01 -1.02197401e-01 -1.30433381e-01\n",
      "   1.15757440e-01 -3.82221307e-01 -2.66852353e-01  7.87312069e-01\n",
      "   7.95602702e-01  2.65294216e-01 -2.54233192e-01 -1.14221844e-01\n",
      "   2.66537115e-01 -4.37006242e-01 -3.58021090e-01  7.86158083e-01\n",
      "   6.69535659e-01 -3.95419141e-01 -5.88195070e-01 -4.72323823e-02\n",
      "   0.00000000e+00 -5.04240022e-01 -5.25426172e-02  8.54238933e-01\n",
      "   4.67542391e-01 -1.02641055e+00 -8.21280607e-01  0.00000000e+00\n",
      "  -6.13436689e-02 -1.92470079e-01  4.67941796e-01  7.37134757e-01\n",
      "   6.56426938e-01 -5.86852748e-01 -7.35912932e-01 -8.87416172e-02\n",
      "  -3.54332626e-02  7.47522246e-02  3.08004070e-01  4.30728332e-01\n",
      "   5.43101790e-01 -3.15696811e-01 -5.75452635e-01 -2.04704482e-01\n",
      "  -2.35964589e-02 -1.97372837e-01 -2.82773285e-01 -5.80858906e-02\n",
      "   2.02911018e-01 -1.94788093e-01 -2.66026406e-01 -1.90630030e-01]\n",
      " [ 0.00000000e+00  9.89967687e-01  1.03175653e+00  3.49248858e-01\n",
      "   5.00097767e-01  1.15552627e+00  8.38831922e-01 -1.00714539e-01\n",
      "   3.01345186e-02  8.40865642e-01  8.31825941e-01 -1.16189782e-03\n",
      "  -3.51933230e-01 -7.76640025e-02  2.06905939e-01 -9.99748189e-02\n",
      "  -4.46250733e-02  9.74035623e-01  7.23062439e-01 -2.76882968e-01\n",
      "  -7.83516202e-01 -9.60230447e-01 -4.79184916e-01 -1.14221844e-01\n",
      "  -3.33797263e-02  9.16587423e-01  7.82110463e-01  5.43321733e-01\n",
      "  -2.51846106e-01 -8.02453015e-01 -5.90133204e-01 -4.72323823e-02\n",
      "   0.00000000e+00 -1.38619090e-01  2.07334628e-02  8.91171637e-02\n",
      "  -2.68036860e-03 -5.66338703e-01 -6.58728731e-01  0.00000000e+00\n",
      "  -6.13436689e-02 -4.38257535e-01 -8.41983468e-01 -3.64278922e-01\n",
      "   3.55866120e-01 -2.15685725e-01 -6.70176548e-01 -8.87416172e-02\n",
      "  -3.54332626e-02  3.92982931e-02 -4.38308582e-01 -4.36911268e-02\n",
      "   5.12813326e-01 -5.77359526e-01 -7.24970852e-01 -2.09785127e-01\n",
      "  -2.35964589e-02  9.33476450e-01  1.09480593e+00  5.75287112e-01\n",
      "  -7.79053595e-01 -9.57183018e-01 -5.03614894e-01 -1.96007519e-01]]\n"
     ]
    }
   ],
   "source": [
    "# Predict the labels for `X_test` using `.predict()`\n",
    "y_pred = clf.predict(X_test)\n",
    "\n",
    "# Print out the first 100 instances of `y_pred`\n",
    "print(y_pred[:99])\n",
    "\n",
    "# Print out the first 100 instances of `y_test`\n",
    "print(y_test[:99])\n",
    "\n",
    "# Study the shape of the cluster centers\n",
    "print(clf.cluster_centers_)"
   ]
  },
  {
   "cell_type": "markdown",
   "metadata": {},
   "source": [
    "We can use following code to determine how different `y_pred` and `y_test` are - that is how we evaluate the predictive results."
   ]
  },
  {
   "cell_type": "code",
   "execution_count": 8,
   "metadata": {
    "collapsed": true
   },
   "outputs": [
    {
     "data": {
      "text/plain": [
       "38"
      ]
     },
     "execution_count": 8,
     "metadata": {},
     "output_type": "execute_result"
    }
   ],
   "source": [
    "\n",
    "# compare `y_test` with `y_pred`\n",
    "np.count_nonzero(y_test == y_pred)"
   ]
  },
  {
   "cell_type": "markdown",
   "metadata": {},
   "source": [
    "This means only `38` out of `100` samples are correct.\n",
    "\n",
    "In addition, you can study the shape of the cluster centers: you immediately see that there are `10` clusters with each `64` features.\n",
    "\n",
    "But this doesn’t tell you much because we set the number of clusters to `10` and you already knew that there were `64` features.\n",
    "\n",
    "Maybe a visualization would be more helpful.\n",
    "\n",
    "Let’s visualize the predicted labels:"
   ]
  },
  {
   "cell_type": "markdown",
   "metadata": {},
   "source": [
    "## This is the cell that is getting stuck (below)\n",
    "\n"
   ]
  },
  {
   "cell_type": "code",
   "execution_count": null,
   "metadata": {
    "collapsed": true
   },
   "outputs": [],
   "source": [
    "%%time\n",
    "# Import `Isomap()` from `sklearn.manifold`\n",
    "from sklearn.manifold import Isomap\n",
    "\n",
    "# Create an isomap and fit the `digits` data to it\n",
    "X_iso = Isomap(n_neighbors=10).fit_transform(X_train)\n",
    "\n",
    "# Compute cluster centers and predict cluster index for each sample\n",
    "clusters = clf.fit_predict(X_train)\n",
    "\n",
    "# Create a plot with subplots in a grid of 1X2\n",
    "fig, ax = plt.subplots(1, 2, figsize=(8, 4))\n",
    "\n",
    "# Adjust layout\n",
    "fig.suptitle('Predicted Versus Training Labels', fontsize=14, fontweight='bold')\n",
    "fig.subplots_adjust(top=0.85)\n",
    "\n",
    "# Add scatterplots to the subplots \n",
    "ax[0].scatter(X_iso[:, 0], X_iso[:, 1], c=clusters)\n",
    "ax[0].set_title('Predicted Training Labels')\n",
    "ax[1].scatter(X_iso[:, 0], X_iso[:, 1], c=y_train)\n",
    "ax[1].set_title('Actual Training Labels')\n",
    "\n",
    "# Show the plots\n",
    "plt.show()"
   ]
  },
  {
   "cell_type": "markdown",
   "metadata": {},
   "source": [
    "You use `Isomap()` as a way to reduce the dimensions of your high-dimensional data set digits. The difference with the PCA method is that the Isomap is a __non-linear__ dimensionality reduction method.\n",
    "\n",
    "We will create another dimensionality reduction using PCA. Please complete the code below - if you do not remember how to create PCA models, please refer to part 1 of this mini project."
   ]
  },
  {
   "cell_type": "code",
   "execution_count": null,
   "metadata": {
    "collapsed": true
   },
   "outputs": [],
   "source": [
    "# Import `PCA` from `sklearn.decomposition`\n",
    "\n",
    "\n",
    "# We will use 2 principal components, and the PCA model will fit (`fit_transform()`) to `X_train`\n",
    "# and name the model `X_pca`\n",
    "\n",
    "\n",
    "# Compute cluster centers and predict cluster index for each sample\n",
    "# fit (`fit_predict`) `clf` to `X_train` and name it as `clusters`\n",
    "\n",
    "\n",
    "# Create a plot with subplots in a grid of 1X2\n",
    "# check the code block above if you have doubts about this\n",
    "\n",
    "# Adjust layout\n",
    "fig.suptitle('Predicted Versus Training Labels', fontsize=14, fontweight='bold')\n",
    "fig.subplots_adjust(top=0.85)\n",
    "\n",
    "# Add scatterplots to the subplots\n",
    "# in `ax[0]`, x-axis is the first component of `X_pca`, y-axis is the second component of `X_pca`\n",
    "# and color (`c`) is `clusters`\n",
    "# which means `ax[0]` depicts our prediction\n",
    "\n",
    "# you will set the title of `ax[0]` as 'Predicted Training Labels'\n",
    "\n",
    "# we also need to create another subplot `ax[1]` to depict the actual data `y_train`\n",
    "# in `ax[1]`, x-axis is the first component of `X_pca`, y-axis is the second component of `X_pca`\n",
    "\n",
    "# you will set the title of `ax[10]` as 'Actual Training Labels'\n",
    "\n",
    "\n",
    "# Show the plots\n",
    "plt.show()"
   ]
  },
  {
   "cell_type": "markdown",
   "metadata": {},
   "source": [
    "At first sight, the visualization doesn’t seem to indicate whether the model works well.\n",
    "\n",
    "But this needs some further investigation.\n",
    "\n",
    "### Evaluation of Your Clustering Model\n",
    "And this need for further investigation brings you to the next essential step, which is the evaluation of your model’s performance. In other words, you want to analyze the degree of correctness of the model’s predictions - in classification analysis, we use __confusion matrix__ for that.\n",
    "\n",
    "Let’s print out a confusion matrix:"
   ]
  },
  {
   "cell_type": "code",
   "execution_count": null,
   "metadata": {
    "collapsed": true
   },
   "outputs": [],
   "source": [
    "# Import `confusion_matrix` from `sklearn.metrics`\n",
    "\n",
    "\n",
    "# Print out the confusion matrix with `confusion_matrix()`\n",
    "# the `confusion_matrix()` should be between `y_test` and `y_pred`\n"
   ]
  },
  {
   "cell_type": "markdown",
   "metadata": {},
   "source": [
    "You will want higher values to appear in the top-left to lower-right diagonal line of the matrix.\n",
    "\n",
    "### Answer the question:\n",
    "\n",
    "Observe the confusion matrix above - which digit(s) are predicted well? Use the block below to provide your answer."
   ]
  },
  {
   "cell_type": "markdown",
   "metadata": {},
   "source": [
    "__Double click and type your answer here__."
   ]
  },
  {
   "cell_type": "markdown",
   "metadata": {},
   "source": [
    "You might need to know a bit more about the results than just the confusion matrix.\n",
    "\n",
    "Let’s try to figure out something more about the quality of the clusters by applying different cluster quality metrics. That way, you can judge the goodness of fit of the cluster labels to the correct labels."
   ]
  },
  {
   "cell_type": "code",
   "execution_count": null,
   "metadata": {
    "collapsed": true
   },
   "outputs": [],
   "source": [
    "from sklearn.metrics import homogeneity_score, completeness_score, v_measure_score, adjusted_rand_score, adjusted_mutual_info_score, silhouette_score\n",
    "print('% 9s' % 'inertia homo    compl   v-meas  ARI     AMI      silhouette')\n",
    "print('%i   %.3f   %.3f   %.3f   %.3f   %.3f    %.3f'\n",
    "          %(clf.inertia_,\n",
    "      homogeneity_score(y_test, y_pred),\n",
    "      completeness_score(y_test, y_pred),\n",
    "      v_measure_score(y_test, y_pred),\n",
    "      adjusted_rand_score(y_test, y_pred),\n",
    "      adjusted_mutual_info_score(y_test, y_pred),\n",
    "      silhouette_score(X_test, y_pred, metric='euclidean')))"
   ]
  },
  {
   "cell_type": "markdown",
   "metadata": {},
   "source": [
    "You’ll see that there are quite some metrics to consider:\n",
    "\n",
    "- The __homogeneity__ (`homo`) score tells you to what extent all of the clusters contain only data points which are members of a single class.\n",
    "- The __completeness__ (`compl`) score measures the extent to which all of the data points that are members of a given class are also elements of the same cluster - e.g. how many `0`s in cluster `0`.\n",
    "- The __V-measure__ (`v-meas`) score is the harmonic mean between homogeneity and completeness.\n",
    "- The adjusted Rand index (`ARI`) measures the similarity between two clusterings and considers all pairs of samples and counting pairs that are assigned in the same or different clusters in the predicted and true clusterings.\n",
    "- The Adjusted Mutual Info (`AMI`) score is used to compare clusters. It measures the similarity between the data points that are in the clusterings, accounting for chance groupings and takes a maximum value of 1 when clusterings are equivalent.\n",
    "- The `silhouette` score measures how similar an object is to its own cluster compared to other clusters. The silhouette scores ranges from -1 to 1, where a higher value indicates that the object is better matched to its own cluster and worse mached to neighboring clusters. If many points have a high value, the clusteirng configuration is good.\n",
    "\n",
    "You clearly see that these scores aren’t fantastic: for example, you see that the value for the `silhouette` score is close to `0`, which indicates that the sample is on or very close to the decision boundary between two neighboring clusters. This could indicate that the samples could have been assigned to the wrong cluster.\n",
    "\n",
    "Also the `ARI` measure seems to indicate that not all data points in a given cluster are similar and the `completeness` score tells you that there are definitely data points that weren’t put in the right cluster.\n",
    "\n",
    "Looks like we did not do too well using __unsupervised, cluster__ models, in the next part we will try a __supervised learning__ model to see if the results will improve.\n",
    "\n",
    "That's all for part 2. Please make sure your sync the complete notebook to your github repo for submission."
   ]
  },
  {
   "cell_type": "code",
   "execution_count": null,
   "metadata": {
    "collapsed": true
   },
   "outputs": [],
   "source": []
  }
 ],
 "metadata": {
  "kernelspec": {
   "display_name": "Python 3",
   "language": "python",
   "name": "python3"
  },
  "language_info": {
   "codemirror_mode": {
    "name": "ipython",
    "version": 3
   },
   "file_extension": ".py",
   "mimetype": "text/x-python",
   "name": "python",
   "nbconvert_exporter": "python",
   "pygments_lexer": "ipython3",
   "version": "3.6.5"
  }
 },
 "nbformat": 4,
 "nbformat_minor": 2
}
